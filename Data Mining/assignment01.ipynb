{
 "cells": [
  {
   "cell_type": "markdown",
   "metadata": {},
   "source": [
    "# This script demonstrates Best,Foward,Backward selection \n",
    "\n",
    "# and Ridge Regression and Lasso Regression\n",
    "\n",
    "# Name : Eun-Yeong Jeon\n",
    "\n",
    "# Student ID : 20153334\n",
    "\n",
    "# github: https://github.com/Eun0/TIL/new/master/Data%20Mining/assignment01.ipynb"
   ]
  },
  {
   "cell_type": "markdown",
   "metadata": {},
   "source": [
    "# Outline:\n",
    "\n",
    "1. Best subset selection\n",
    "\n",
    "\n",
    "2. Foward stepwise selection\n",
    "\n",
    "\n",
    "3. Ridge regression\n",
    "\n",
    "\n",
    "4. Lasso regression"
   ]
  },
  {
   "cell_type": "markdown",
   "metadata": {},
   "source": [
    "# Import required library :"
   ]
  },
  {
   "cell_type": "code",
   "execution_count": 1,
   "metadata": {},
   "outputs": [
    {
     "name": "stderr",
     "output_type": "stream",
     "text": [
      "Loading required package: Matrix\n",
      "Loading required package: foreach\n",
      "Loaded glmnet 2.0-16\n",
      "\n"
     ]
    }
   ],
   "source": [
    "library(leaps)\n",
    "library(glmnet)"
   ]
  },
  {
   "cell_type": "markdown",
   "metadata": {},
   "source": [
    "# Make train and test data :"
   ]
  },
  {
   "cell_type": "code",
   "execution_count": 2,
   "metadata": {},
   "outputs": [],
   "source": [
    "set.seed(19875)\n",
    "\n",
    "n=100\n",
    "p=22\n",
    "x=matrix(rnorm(n*p),nrow=n,ncol=p)\n",
    "beta=sample(c(1,0),p,replace = TRUE)\n",
    "y =x%*% beta+ rnorm(n)\n",
    "\n",
    "trainrows=sample(1:n,.66*n)\n",
    "\n",
    "x.train=x[trainrows,]\n",
    "x.test=x[-trainrows,]\n",
    "\n",
    "\n",
    "y.train=y[trainrows]\n",
    "y.test=y[-trainrows]\n",
    "\n",
    "train_data=data.frame(y=y.train,x.train)"
   ]
  },
  {
   "cell_type": "markdown",
   "metadata": {},
   "source": [
    "# Show first five data of train_data :"
   ]
  },
  {
   "cell_type": "code",
   "execution_count": 3,
   "metadata": {},
   "outputs": [
    {
     "data": {
      "text/html": [
       "<table>\n",
       "<thead><tr><th scope=col>y</th><th scope=col>X1</th><th scope=col>X2</th><th scope=col>X3</th><th scope=col>X4</th><th scope=col>X5</th><th scope=col>X6</th><th scope=col>X7</th><th scope=col>X8</th><th scope=col>X9</th><th scope=col>...</th><th scope=col>X13</th><th scope=col>X14</th><th scope=col>X15</th><th scope=col>X16</th><th scope=col>X17</th><th scope=col>X18</th><th scope=col>X19</th><th scope=col>X20</th><th scope=col>X21</th><th scope=col>X22</th></tr></thead>\n",
       "<tbody>\n",
       "\t<tr><td> 6.7589608  </td><td> 0.27686593 </td><td> 2.1527015  </td><td> 0.9016671  </td><td> 1.642425510</td><td> 1.1380635  </td><td>-0.9292370  </td><td>-1.3917707  </td><td> 2.1127812  </td><td> 1.9303548  </td><td>...         </td><td> 0.7642922  </td><td>-0.22714429 </td><td>-0.2310872  </td><td>-1.7719277  </td><td> 1.7460268  </td><td>0.6689660   </td><td>-0.1719376  </td><td>-0.7319904  </td><td> 0.0671127  </td><td> 0.03994955 </td></tr>\n",
       "\t<tr><td> 0.5358185  </td><td> 0.08429508 </td><td> 0.3791939  </td><td>-0.3762082  </td><td>-0.165133868</td><td> 1.1590917  </td><td>-0.1984965  </td><td> 1.0876483  </td><td> 1.6251798  </td><td>-0.8456354  </td><td>...         </td><td> 0.3770395  </td><td> 0.07640236 </td><td>-0.4321575  </td><td> 0.8033592  </td><td> 0.3286185  </td><td>1.0639561   </td><td> 0.4822606  </td><td>-0.6413071  </td><td>-0.7372751  </td><td> 0.70234135 </td></tr>\n",
       "\t<tr><td>-5.3854770  </td><td>-1.81105552 </td><td>-0.7400497  </td><td> 1.8258816  </td><td> 0.283939470</td><td>-0.4411229  </td><td> 0.5132469  </td><td> 0.7075945  </td><td>-2.4950465  </td><td>-2.0521814  </td><td>...         </td><td> 0.4106650  </td><td>-0.43459950 </td><td> 0.6879516  </td><td> 0.6173523  </td><td>-2.1039401  </td><td>1.0402649   </td><td>-0.8021746  </td><td>-0.3701931  </td><td> 1.7976792  </td><td> 1.08106029 </td></tr>\n",
       "\t<tr><td> 3.2217462  </td><td> 0.36106887 </td><td>-1.2878836  </td><td>-1.0234442  </td><td>-0.489768611</td><td>-0.7080904  </td><td> 0.8947698  </td><td>-1.5553936  </td><td> 1.1159103  </td><td> 1.4807214  </td><td>...         </td><td>-1.0514958  </td><td>-1.18981215 </td><td>-1.2532719  </td><td> 0.6977616  </td><td> 0.4855844  </td><td>0.8542109   </td><td>-0.5862198  </td><td>-0.8601755  </td><td> 1.0038794  </td><td>-0.03009767 </td></tr>\n",
       "\t<tr><td>-3.0577015  </td><td>-0.92045927 </td><td>-1.0824394  </td><td>-2.4269299  </td><td>-0.008390868</td><td>-1.5586104  </td><td>-0.9419848  </td><td> 0.4035273  </td><td> 0.9353452  </td><td>-0.1494265  </td><td>...         </td><td>-0.3038304  </td><td> 0.86363407 </td><td>-1.1698935  </td><td> 0.4798577  </td><td>-0.2335926  </td><td>1.3993006   </td><td> 0.5037702  </td><td>-1.6123314  </td><td> 2.1438346  </td><td> 0.31016132 </td></tr>\n",
       "</tbody>\n",
       "</table>\n"
      ],
      "text/latex": [
       "\\begin{tabular}{r|lllllllllllllllllllllll}\n",
       " y & X1 & X2 & X3 & X4 & X5 & X6 & X7 & X8 & X9 & ... & X13 & X14 & X15 & X16 & X17 & X18 & X19 & X20 & X21 & X22\\\\\n",
       "\\hline\n",
       "\t  6.7589608   &  0.27686593  &  2.1527015   &  0.9016671   &  1.642425510 &  1.1380635   & -0.9292370   & -1.3917707   &  2.1127812   &  1.9303548   & ...          &  0.7642922   & -0.22714429  & -0.2310872   & -1.7719277   &  1.7460268   & 0.6689660    & -0.1719376   & -0.7319904   &  0.0671127   &  0.03994955 \\\\\n",
       "\t  0.5358185   &  0.08429508  &  0.3791939   & -0.3762082   & -0.165133868 &  1.1590917   & -0.1984965   &  1.0876483   &  1.6251798   & -0.8456354   & ...          &  0.3770395   &  0.07640236  & -0.4321575   &  0.8033592   &  0.3286185   & 1.0639561    &  0.4822606   & -0.6413071   & -0.7372751   &  0.70234135 \\\\\n",
       "\t -5.3854770   & -1.81105552  & -0.7400497   &  1.8258816   &  0.283939470 & -0.4411229   &  0.5132469   &  0.7075945   & -2.4950465   & -2.0521814   & ...          &  0.4106650   & -0.43459950  &  0.6879516   &  0.6173523   & -2.1039401   & 1.0402649    & -0.8021746   & -0.3701931   &  1.7976792   &  1.08106029 \\\\\n",
       "\t  3.2217462   &  0.36106887  & -1.2878836   & -1.0234442   & -0.489768611 & -0.7080904   &  0.8947698   & -1.5553936   &  1.1159103   &  1.4807214   & ...          & -1.0514958   & -1.18981215  & -1.2532719   &  0.6977616   &  0.4855844   & 0.8542109    & -0.5862198   & -0.8601755   &  1.0038794   & -0.03009767 \\\\\n",
       "\t -3.0577015   & -0.92045927  & -1.0824394   & -2.4269299   & -0.008390868 & -1.5586104   & -0.9419848   &  0.4035273   &  0.9353452   & -0.1494265   & ...          & -0.3038304   &  0.86363407  & -1.1698935   &  0.4798577   & -0.2335926   & 1.3993006    &  0.5037702   & -1.6123314   &  2.1438346   &  0.31016132 \\\\\n",
       "\\end{tabular}\n"
      ],
      "text/markdown": [
       "\n",
       "y | X1 | X2 | X3 | X4 | X5 | X6 | X7 | X8 | X9 | ... | X13 | X14 | X15 | X16 | X17 | X18 | X19 | X20 | X21 | X22 | \n",
       "|---|---|---|---|---|\n",
       "|  6.7589608   |  0.27686593  |  2.1527015   |  0.9016671   |  1.642425510 |  1.1380635   | -0.9292370   | -1.3917707   |  2.1127812   |  1.9303548   | ...          |  0.7642922   | -0.22714429  | -0.2310872   | -1.7719277   |  1.7460268   | 0.6689660    | -0.1719376   | -0.7319904   |  0.0671127   |  0.03994955  | \n",
       "|  0.5358185   |  0.08429508  |  0.3791939   | -0.3762082   | -0.165133868 |  1.1590917   | -0.1984965   |  1.0876483   |  1.6251798   | -0.8456354   | ...          |  0.3770395   |  0.07640236  | -0.4321575   |  0.8033592   |  0.3286185   | 1.0639561    |  0.4822606   | -0.6413071   | -0.7372751   |  0.70234135  | \n",
       "| -5.3854770   | -1.81105552  | -0.7400497   |  1.8258816   |  0.283939470 | -0.4411229   |  0.5132469   |  0.7075945   | -2.4950465   | -2.0521814   | ...          |  0.4106650   | -0.43459950  |  0.6879516   |  0.6173523   | -2.1039401   | 1.0402649    | -0.8021746   | -0.3701931   |  1.7976792   |  1.08106029  | \n",
       "|  3.2217462   |  0.36106887  | -1.2878836   | -1.0234442   | -0.489768611 | -0.7080904   |  0.8947698   | -1.5553936   |  1.1159103   |  1.4807214   | ...          | -1.0514958   | -1.18981215  | -1.2532719   |  0.6977616   |  0.4855844   | 0.8542109    | -0.5862198   | -0.8601755   |  1.0038794   | -0.03009767  | \n",
       "| -3.0577015   | -0.92045927  | -1.0824394   | -2.4269299   | -0.008390868 | -1.5586104   | -0.9419848   |  0.4035273   |  0.9353452   | -0.1494265   | ...          | -0.3038304   |  0.86363407  | -1.1698935   |  0.4798577   | -0.2335926   | 1.3993006    |  0.5037702   | -1.6123314   |  2.1438346   |  0.31016132  | \n",
       "\n",
       "\n"
      ],
      "text/plain": [
       "  y          X1          X2         X3         X4           X5        \n",
       "1  6.7589608  0.27686593  2.1527015  0.9016671  1.642425510  1.1380635\n",
       "2  0.5358185  0.08429508  0.3791939 -0.3762082 -0.165133868  1.1590917\n",
       "3 -5.3854770 -1.81105552 -0.7400497  1.8258816  0.283939470 -0.4411229\n",
       "4  3.2217462  0.36106887 -1.2878836 -1.0234442 -0.489768611 -0.7080904\n",
       "5 -3.0577015 -0.92045927 -1.0824394 -2.4269299 -0.008390868 -1.5586104\n",
       "  X6         X7         X8         X9         ... X13        X14        \n",
       "1 -0.9292370 -1.3917707  2.1127812  1.9303548 ...  0.7642922 -0.22714429\n",
       "2 -0.1984965  1.0876483  1.6251798 -0.8456354 ...  0.3770395  0.07640236\n",
       "3  0.5132469  0.7075945 -2.4950465 -2.0521814 ...  0.4106650 -0.43459950\n",
       "4  0.8947698 -1.5553936  1.1159103  1.4807214 ... -1.0514958 -1.18981215\n",
       "5 -0.9419848  0.4035273  0.9353452 -0.1494265 ... -0.3038304  0.86363407\n",
       "  X15        X16        X17        X18       X19        X20        X21       \n",
       "1 -0.2310872 -1.7719277  1.7460268 0.6689660 -0.1719376 -0.7319904  0.0671127\n",
       "2 -0.4321575  0.8033592  0.3286185 1.0639561  0.4822606 -0.6413071 -0.7372751\n",
       "3  0.6879516  0.6173523 -2.1039401 1.0402649 -0.8021746 -0.3701931  1.7976792\n",
       "4 -1.2532719  0.6977616  0.4855844 0.8542109 -0.5862198 -0.8601755  1.0038794\n",
       "5 -1.1698935  0.4798577 -0.2335926 1.3993006  0.5037702 -1.6123314  2.1438346\n",
       "  X22        \n",
       "1  0.03994955\n",
       "2  0.70234135\n",
       "3  1.08106029\n",
       "4 -0.03009767\n",
       "5  0.31016132"
      ]
     },
     "metadata": {},
     "output_type": "display_data"
    }
   ],
   "source": [
    "head(train_data,n=5)"
   ]
  },
  {
   "cell_type": "markdown",
   "metadata": {},
   "source": [
    "# check na:\n",
    "\n",
    "if the number of na is 0, the no need to manipulate data"
   ]
  },
  {
   "cell_type": "code",
   "execution_count": 4,
   "metadata": {},
   "outputs": [
    {
     "data": {
      "text/html": [
       "0"
      ],
      "text/latex": [
       "0"
      ],
      "text/markdown": [
       "0"
      ],
      "text/plain": [
       "[1] 0"
      ]
     },
     "metadata": {},
     "output_type": "display_data"
    }
   ],
   "source": [
    "sum(is.nan(as.matrix(train_data)))"
   ]
  },
  {
   "cell_type": "markdown",
   "metadata": {},
   "source": [
    "# 1. Best subset selection with train_data"
   ]
  },
  {
   "cell_type": "code",
   "execution_count": 5,
   "metadata": {},
   "outputs": [],
   "source": [
    "# nvmax= max number of predictors to choose\n",
    "regfit.full=regsubsets(y~., train_data, nvmax=22)"
   ]
  },
  {
   "cell_type": "markdown",
   "metadata": {},
   "source": [
    "# Show summary:"
   ]
  },
  {
   "cell_type": "code",
   "execution_count": 6,
   "metadata": {},
   "outputs": [
    {
     "data": {
      "text/plain": [
       "Subset selection object\n",
       "Call: regsubsets.formula(y ~ ., train_data, nvmax = 22)\n",
       "22 Variables  (and intercept)\n",
       "    Forced in Forced out\n",
       "X1      FALSE      FALSE\n",
       "X2      FALSE      FALSE\n",
       "X3      FALSE      FALSE\n",
       "X4      FALSE      FALSE\n",
       "X5      FALSE      FALSE\n",
       "X6      FALSE      FALSE\n",
       "X7      FALSE      FALSE\n",
       "X8      FALSE      FALSE\n",
       "X9      FALSE      FALSE\n",
       "X10     FALSE      FALSE\n",
       "X11     FALSE      FALSE\n",
       "X12     FALSE      FALSE\n",
       "X13     FALSE      FALSE\n",
       "X14     FALSE      FALSE\n",
       "X15     FALSE      FALSE\n",
       "X16     FALSE      FALSE\n",
       "X17     FALSE      FALSE\n",
       "X18     FALSE      FALSE\n",
       "X19     FALSE      FALSE\n",
       "X20     FALSE      FALSE\n",
       "X21     FALSE      FALSE\n",
       "X22     FALSE      FALSE\n",
       "1 subsets of each size up to 22\n",
       "Selection Algorithm: exhaustive\n",
       "          X1  X2  X3  X4  X5  X6  X7  X8  X9  X10 X11 X12 X13 X14 X15 X16 X17\n",
       "1  ( 1 )  \" \" \" \" \" \" \" \" \" \" \" \" \" \" \" \" \" \" \" \" \" \" \" \" \" \" \" \" \" \" \" \" \"*\"\n",
       "2  ( 1 )  \" \" \" \" \" \" \" \" \" \" \" \" \" \" \" \" \"*\" \" \" \" \" \" \" \" \" \" \" \" \" \" \" \"*\"\n",
       "3  ( 1 )  \" \" \" \" \" \" \" \" \" \" \" \" \" \" \" \" \"*\" \" \" \" \" \" \" \" \" \" \" \"*\" \" \" \"*\"\n",
       "4  ( 1 )  \"*\" \" \" \" \" \" \" \" \" \" \" \" \" \" \" \"*\" \" \" \" \" \" \" \" \" \" \" \"*\" \" \" \"*\"\n",
       "5  ( 1 )  \"*\" \" \" \" \" \" \" \" \" \" \" \" \" \" \" \"*\" \" \" \" \" \" \" \" \" \" \" \"*\" \" \" \"*\"\n",
       "6  ( 1 )  \"*\" \" \" \" \" \" \" \" \" \" \" \" \" \" \" \"*\" \" \" \" \" \"*\" \" \" \" \" \"*\" \" \" \"*\"\n",
       "7  ( 1 )  \"*\" \" \" \" \" \" \" \" \" \" \" \" \" \" \" \"*\" \" \" \" \" \"*\" \"*\" \" \" \"*\" \" \" \"*\"\n",
       "8  ( 1 )  \"*\" \" \" \" \" \" \" \"*\" \" \" \" \" \" \" \"*\" \" \" \" \" \"*\" \"*\" \" \" \"*\" \" \" \"*\"\n",
       "9  ( 1 )  \"*\" \" \" \" \" \" \" \"*\" \" \" \" \" \" \" \"*\" \" \" \" \" \"*\" \"*\" \" \" \"*\" \"*\" \"*\"\n",
       "10  ( 1 ) \"*\" \" \" \" \" \"*\" \"*\" \" \" \" \" \" \" \"*\" \" \" \" \" \"*\" \"*\" \" \" \"*\" \"*\" \"*\"\n",
       "11  ( 1 ) \"*\" \" \" \" \" \" \" \"*\" \"*\" \" \" \" \" \"*\" \"*\" \" \" \"*\" \"*\" \" \" \"*\" \"*\" \"*\"\n",
       "12  ( 1 ) \"*\" \" \" \"*\" \" \" \"*\" \"*\" \" \" \" \" \"*\" \"*\" \" \" \"*\" \"*\" \" \" \"*\" \"*\" \"*\"\n",
       "13  ( 1 ) \"*\" \" \" \"*\" \" \" \"*\" \"*\" \" \" \" \" \"*\" \"*\" \" \" \"*\" \"*\" \" \" \"*\" \"*\" \"*\"\n",
       "14  ( 1 ) \"*\" \" \" \"*\" \"*\" \"*\" \"*\" \" \" \" \" \"*\" \"*\" \" \" \"*\" \"*\" \" \" \"*\" \"*\" \"*\"\n",
       "15  ( 1 ) \"*\" \" \" \"*\" \"*\" \"*\" \"*\" \" \" \" \" \"*\" \"*\" \" \" \"*\" \"*\" \" \" \"*\" \"*\" \"*\"\n",
       "16  ( 1 ) \"*\" \"*\" \"*\" \"*\" \"*\" \"*\" \" \" \" \" \"*\" \"*\" \" \" \"*\" \"*\" \" \" \"*\" \"*\" \"*\"\n",
       "17  ( 1 ) \"*\" \"*\" \"*\" \"*\" \"*\" \"*\" \"*\" \" \" \"*\" \"*\" \" \" \"*\" \"*\" \" \" \"*\" \"*\" \"*\"\n",
       "18  ( 1 ) \"*\" \"*\" \"*\" \"*\" \"*\" \"*\" \"*\" \" \" \"*\" \"*\" \"*\" \"*\" \"*\" \" \" \"*\" \"*\" \"*\"\n",
       "19  ( 1 ) \"*\" \"*\" \"*\" \"*\" \"*\" \"*\" \"*\" \" \" \"*\" \"*\" \"*\" \"*\" \"*\" \" \" \"*\" \"*\" \"*\"\n",
       "20  ( 1 ) \"*\" \"*\" \"*\" \"*\" \"*\" \"*\" \"*\" \" \" \"*\" \"*\" \"*\" \"*\" \"*\" \" \" \"*\" \"*\" \"*\"\n",
       "21  ( 1 ) \"*\" \"*\" \"*\" \"*\" \"*\" \"*\" \"*\" \" \" \"*\" \"*\" \"*\" \"*\" \"*\" \"*\" \"*\" \"*\" \"*\"\n",
       "22  ( 1 ) \"*\" \"*\" \"*\" \"*\" \"*\" \"*\" \"*\" \"*\" \"*\" \"*\" \"*\" \"*\" \"*\" \"*\" \"*\" \"*\" \"*\"\n",
       "          X18 X19 X20 X21 X22\n",
       "1  ( 1 )  \" \" \" \" \" \" \" \" \" \"\n",
       "2  ( 1 )  \" \" \" \" \" \" \" \" \" \"\n",
       "3  ( 1 )  \" \" \" \" \" \" \" \" \" \"\n",
       "4  ( 1 )  \" \" \" \" \" \" \" \" \" \"\n",
       "5  ( 1 )  \"*\" \" \" \" \" \" \" \" \"\n",
       "6  ( 1 )  \"*\" \" \" \" \" \" \" \" \"\n",
       "7  ( 1 )  \"*\" \" \" \" \" \" \" \" \"\n",
       "8  ( 1 )  \"*\" \" \" \" \" \" \" \" \"\n",
       "9  ( 1 )  \"*\" \" \" \" \" \" \" \" \"\n",
       "10  ( 1 ) \"*\" \" \" \" \" \" \" \" \"\n",
       "11  ( 1 ) \"*\" \" \" \" \" \" \" \" \"\n",
       "12  ( 1 ) \"*\" \" \" \" \" \" \" \" \"\n",
       "13  ( 1 ) \"*\" \" \" \" \" \" \" \"*\"\n",
       "14  ( 1 ) \"*\" \" \" \" \" \" \" \"*\"\n",
       "15  ( 1 ) \"*\" \" \" \"*\" \" \" \"*\"\n",
       "16  ( 1 ) \"*\" \" \" \"*\" \" \" \"*\"\n",
       "17  ( 1 ) \"*\" \" \" \"*\" \" \" \"*\"\n",
       "18  ( 1 ) \"*\" \" \" \"*\" \" \" \"*\"\n",
       "19  ( 1 ) \"*\" \"*\" \"*\" \" \" \"*\"\n",
       "20  ( 1 ) \"*\" \"*\" \"*\" \"*\" \"*\"\n",
       "21  ( 1 ) \"*\" \"*\" \"*\" \"*\" \"*\"\n",
       "22  ( 1 ) \"*\" \"*\" \"*\" \"*\" \"*\""
      ]
     },
     "metadata": {},
     "output_type": "display_data"
    }
   ],
   "source": [
    "reg_summary=summary(regfit.full)\n",
    "reg_summary"
   ]
  },
  {
   "cell_type": "markdown",
   "metadata": {},
   "source": [
    "# Example) choose 7 predictors by best selection :"
   ]
  },
  {
   "cell_type": "code",
   "execution_count": 7,
   "metadata": {},
   "outputs": [
    {
     "data": {
      "text/html": [
       "<dl class=dl-horizontal>\n",
       "\t<dt>(Intercept)</dt>\n",
       "\t\t<dd>0.287211883660171</dd>\n",
       "\t<dt>X1</dt>\n",
       "\t\t<dd>0.904674813259974</dd>\n",
       "\t<dt>X9</dt>\n",
       "\t\t<dd>1.07118536093096</dd>\n",
       "\t<dt>X12</dt>\n",
       "\t\t<dd>0.724081967479066</dd>\n",
       "\t<dt>X13</dt>\n",
       "\t\t<dd>0.643772942076463</dd>\n",
       "\t<dt>X15</dt>\n",
       "\t\t<dd>0.945935184801026</dd>\n",
       "\t<dt>X17</dt>\n",
       "\t\t<dd>1.14857707870028</dd>\n",
       "\t<dt>X18</dt>\n",
       "\t\t<dd>0.880595621791792</dd>\n",
       "</dl>\n"
      ],
      "text/latex": [
       "\\begin{description*}\n",
       "\\item[(Intercept)] 0.287211883660171\n",
       "\\item[X1] 0.904674813259974\n",
       "\\item[X9] 1.07118536093096\n",
       "\\item[X12] 0.724081967479066\n",
       "\\item[X13] 0.643772942076463\n",
       "\\item[X15] 0.945935184801026\n",
       "\\item[X17] 1.14857707870028\n",
       "\\item[X18] 0.880595621791792\n",
       "\\end{description*}\n"
      ],
      "text/markdown": [
       "(Intercept)\n",
       ":   0.287211883660171X1\n",
       ":   0.904674813259974X9\n",
       ":   1.07118536093096X12\n",
       ":   0.724081967479066X13\n",
       ":   0.643772942076463X15\n",
       ":   0.945935184801026X17\n",
       ":   1.14857707870028X18\n",
       ":   0.880595621791792\n",
       "\n"
      ],
      "text/plain": [
       "(Intercept)          X1          X9         X12         X13         X15 \n",
       "  0.2872119   0.9046748   1.0711854   0.7240820   0.6437729   0.9459352 \n",
       "        X17         X18 \n",
       "  1.1485771   0.8805956 "
      ]
     },
     "metadata": {},
     "output_type": "display_data"
    }
   ],
   "source": [
    "coef(regfit.full, 7)"
   ]
  },
  {
   "cell_type": "markdown",
   "metadata": {},
   "source": [
    "# Plot performance :"
   ]
  },
  {
   "cell_type": "code",
   "execution_count": 8,
   "metadata": {},
   "outputs": [
    {
     "data": {
      "image/png": "[encoded data removed]",
      "text/plain": [
       "plot without title"
      ]
     },
     "metadata": {},
     "output_type": "display_data"
    }
   ],
   "source": [
    "par(mfrow=c(2,2))\n",
    "\n",
    "plot(reg_summary$rss, ylab='RSS', xlab='p')\n",
    "plot(reg_summary$adjr2,  ylab='adj_R2', xlab='p')\n",
    "max_index=which.max(reg_summary$adjr2)\n",
    "points(max_index, reg_summary$adjr2[max_index], col=2, cex=2, pch=20)\n",
    "\n",
    "plot(reg_summary$cp,  ylab='Cp', xlab='p')\n",
    "min_index= which.min(reg_summary$cp)\n",
    "points(min_index, reg_summary$cp[min_index], col=2, cex=2, pch=20)\n",
    "\n",
    "plot(reg_summary$bic,  ylab='BIC', xlab='p')\n",
    "min_index=which.min(reg_summary$bic)\n",
    "points(min_index, reg_summary$bic[min_index], col=2, cex=2, pch=20)"
   ]
  },
  {
   "cell_type": "markdown",
   "metadata": {},
   "source": [
    "# Compute test error for each iteration :"
   ]
  },
  {
   "cell_type": "code",
   "execution_count": 9,
   "metadata": {},
   "outputs": [],
   "source": [
    "test_m=model.matrix(y~.,train_data)\n",
    "\n",
    "test_errors=vector(\"double\",length=22)\n",
    "\n",
    "for(i in 1:22){\n",
    "  \n",
    "  coefi=coef(regfit.full,i)\n",
    "  pred=sum(test_m[,names(coefi)]%*%coefi)\n",
    "  test_errors[i]=mean((y.test-pred)^2)/44\n",
    "}"
   ]
  },
  {
   "cell_type": "markdown",
   "metadata": {},
   "source": [
    "# Plot the test error and Point where is minizie it :"
   ]
  },
  {
   "cell_type": "code",
   "execution_count": 10,
   "metadata": {},
   "outputs": [
    {
     "name": "stderr",
     "output_type": "stream",
     "text": [
      "Warning message in plot.window(...):\n",
      "\"relative range of values =   0 * EPS, is small (axis 2)\""
     ]
    },
    {
     "data": {
      "image/png": "[encoded data removed]",
      "text/plain": [
       "plot without title"
      ]
     },
     "metadata": {},
     "output_type": "display_data"
    }
   ],
   "source": [
    "plot(test_errors,ylab='test error',xlab='num of predictors',type='b')\n",
    "min_index=which.min(test_errors)\n",
    "points(min_index, test_errors[min_index],col=2,cex=2,pch=20)"
   ]
  },
  {
   "cell_type": "markdown",
   "metadata": {},
   "source": []
  },
  {
   "cell_type": "markdown",
   "metadata": {},
   "source": [
    "# 2. Foward stepwise selection with train_data"
   ]
  },
  {
   "cell_type": "code",
   "execution_count": 11,
   "metadata": {},
   "outputs": [],
   "source": [
    "regfit.fwd=regsubsets(y~., train_data, nvmax=22, method='forward')"
   ]
  },
  {
   "cell_type": "markdown",
   "metadata": {},
   "source": [
    "# Show summary:"
   ]
  },
  {
   "cell_type": "code",
   "execution_count": 12,
   "metadata": {},
   "outputs": [
    {
     "data": {
      "text/plain": [
       "Subset selection object\n",
       "Call: regsubsets.formula(y ~ ., train_data, nvmax = 22, method = \"forward\")\n",
       "22 Variables  (and intercept)\n",
       "    Forced in Forced out\n",
       "X1      FALSE      FALSE\n",
       "X2      FALSE      FALSE\n",
       "X3      FALSE      FALSE\n",
       "X4      FALSE      FALSE\n",
       "X5      FALSE      FALSE\n",
       "X6      FALSE      FALSE\n",
       "X7      FALSE      FALSE\n",
       "X8      FALSE      FALSE\n",
       "X9      FALSE      FALSE\n",
       "X10     FALSE      FALSE\n",
       "X11     FALSE      FALSE\n",
       "X12     FALSE      FALSE\n",
       "X13     FALSE      FALSE\n",
       "X14     FALSE      FALSE\n",
       "X15     FALSE      FALSE\n",
       "X16     FALSE      FALSE\n",
       "X17     FALSE      FALSE\n",
       "X18     FALSE      FALSE\n",
       "X19     FALSE      FALSE\n",
       "X20     FALSE      FALSE\n",
       "X21     FALSE      FALSE\n",
       "X22     FALSE      FALSE\n",
       "1 subsets of each size up to 22\n",
       "Selection Algorithm: forward\n",
       "          X1  X2  X3  X4  X5  X6  X7  X8  X9  X10 X11 X12 X13 X14 X15 X16 X17\n",
       "1  ( 1 )  \" \" \" \" \" \" \" \" \" \" \" \" \" \" \" \" \" \" \" \" \" \" \" \" \" \" \" \" \" \" \" \" \"*\"\n",
       "2  ( 1 )  \" \" \" \" \" \" \" \" \" \" \" \" \" \" \" \" \"*\" \" \" \" \" \" \" \" \" \" \" \" \" \" \" \"*\"\n",
       "3  ( 1 )  \" \" \" \" \" \" \" \" \" \" \" \" \" \" \" \" \"*\" \" \" \" \" \" \" \" \" \" \" \"*\" \" \" \"*\"\n",
       "4  ( 1 )  \"*\" \" \" \" \" \" \" \" \" \" \" \" \" \" \" \"*\" \" \" \" \" \" \" \" \" \" \" \"*\" \" \" \"*\"\n",
       "5  ( 1 )  \"*\" \" \" \" \" \" \" \" \" \" \" \" \" \" \" \"*\" \" \" \" \" \" \" \" \" \" \" \"*\" \" \" \"*\"\n",
       "6  ( 1 )  \"*\" \" \" \" \" \" \" \" \" \" \" \" \" \" \" \"*\" \" \" \" \" \"*\" \" \" \" \" \"*\" \" \" \"*\"\n",
       "7  ( 1 )  \"*\" \" \" \" \" \" \" \" \" \" \" \" \" \" \" \"*\" \" \" \" \" \"*\" \"*\" \" \" \"*\" \" \" \"*\"\n",
       "8  ( 1 )  \"*\" \" \" \" \" \" \" \"*\" \" \" \" \" \" \" \"*\" \" \" \" \" \"*\" \"*\" \" \" \"*\" \" \" \"*\"\n",
       "9  ( 1 )  \"*\" \" \" \" \" \" \" \"*\" \" \" \" \" \" \" \"*\" \" \" \" \" \"*\" \"*\" \" \" \"*\" \"*\" \"*\"\n",
       "10  ( 1 ) \"*\" \" \" \" \" \"*\" \"*\" \" \" \" \" \" \" \"*\" \" \" \" \" \"*\" \"*\" \" \" \"*\" \"*\" \"*\"\n",
       "11  ( 1 ) \"*\" \" \" \" \" \"*\" \"*\" \"*\" \" \" \" \" \"*\" \" \" \" \" \"*\" \"*\" \" \" \"*\" \"*\" \"*\"\n",
       "12  ( 1 ) \"*\" \" \" \" \" \"*\" \"*\" \"*\" \" \" \" \" \"*\" \"*\" \" \" \"*\" \"*\" \" \" \"*\" \"*\" \"*\"\n",
       "13  ( 1 ) \"*\" \" \" \" \" \"*\" \"*\" \"*\" \" \" \" \" \"*\" \"*\" \" \" \"*\" \"*\" \" \" \"*\" \"*\" \"*\"\n",
       "14  ( 1 ) \"*\" \" \" \"*\" \"*\" \"*\" \"*\" \" \" \" \" \"*\" \"*\" \" \" \"*\" \"*\" \" \" \"*\" \"*\" \"*\"\n",
       "15  ( 1 ) \"*\" \" \" \"*\" \"*\" \"*\" \"*\" \" \" \" \" \"*\" \"*\" \" \" \"*\" \"*\" \" \" \"*\" \"*\" \"*\"\n",
       "16  ( 1 ) \"*\" \"*\" \"*\" \"*\" \"*\" \"*\" \" \" \" \" \"*\" \"*\" \" \" \"*\" \"*\" \" \" \"*\" \"*\" \"*\"\n",
       "17  ( 1 ) \"*\" \"*\" \"*\" \"*\" \"*\" \"*\" \"*\" \" \" \"*\" \"*\" \" \" \"*\" \"*\" \" \" \"*\" \"*\" \"*\"\n",
       "18  ( 1 ) \"*\" \"*\" \"*\" \"*\" \"*\" \"*\" \"*\" \" \" \"*\" \"*\" \"*\" \"*\" \"*\" \" \" \"*\" \"*\" \"*\"\n",
       "19  ( 1 ) \"*\" \"*\" \"*\" \"*\" \"*\" \"*\" \"*\" \" \" \"*\" \"*\" \"*\" \"*\" \"*\" \" \" \"*\" \"*\" \"*\"\n",
       "20  ( 1 ) \"*\" \"*\" \"*\" \"*\" \"*\" \"*\" \"*\" \" \" \"*\" \"*\" \"*\" \"*\" \"*\" \" \" \"*\" \"*\" \"*\"\n",
       "21  ( 1 ) \"*\" \"*\" \"*\" \"*\" \"*\" \"*\" \"*\" \" \" \"*\" \"*\" \"*\" \"*\" \"*\" \"*\" \"*\" \"*\" \"*\"\n",
       "22  ( 1 ) \"*\" \"*\" \"*\" \"*\" \"*\" \"*\" \"*\" \"*\" \"*\" \"*\" \"*\" \"*\" \"*\" \"*\" \"*\" \"*\" \"*\"\n",
       "          X18 X19 X20 X21 X22\n",
       "1  ( 1 )  \" \" \" \" \" \" \" \" \" \"\n",
       "2  ( 1 )  \" \" \" \" \" \" \" \" \" \"\n",
       "3  ( 1 )  \" \" \" \" \" \" \" \" \" \"\n",
       "4  ( 1 )  \" \" \" \" \" \" \" \" \" \"\n",
       "5  ( 1 )  \"*\" \" \" \" \" \" \" \" \"\n",
       "6  ( 1 )  \"*\" \" \" \" \" \" \" \" \"\n",
       "7  ( 1 )  \"*\" \" \" \" \" \" \" \" \"\n",
       "8  ( 1 )  \"*\" \" \" \" \" \" \" \" \"\n",
       "9  ( 1 )  \"*\" \" \" \" \" \" \" \" \"\n",
       "10  ( 1 ) \"*\" \" \" \" \" \" \" \" \"\n",
       "11  ( 1 ) \"*\" \" \" \" \" \" \" \" \"\n",
       "12  ( 1 ) \"*\" \" \" \" \" \" \" \" \"\n",
       "13  ( 1 ) \"*\" \" \" \" \" \" \" \"*\"\n",
       "14  ( 1 ) \"*\" \" \" \" \" \" \" \"*\"\n",
       "15  ( 1 ) \"*\" \" \" \"*\" \" \" \"*\"\n",
       "16  ( 1 ) \"*\" \" \" \"*\" \" \" \"*\"\n",
       "17  ( 1 ) \"*\" \" \" \"*\" \" \" \"*\"\n",
       "18  ( 1 ) \"*\" \" \" \"*\" \" \" \"*\"\n",
       "19  ( 1 ) \"*\" \"*\" \"*\" \" \" \"*\"\n",
       "20  ( 1 ) \"*\" \"*\" \"*\" \"*\" \"*\"\n",
       "21  ( 1 ) \"*\" \"*\" \"*\" \"*\" \"*\"\n",
       "22  ( 1 ) \"*\" \"*\" \"*\" \"*\" \"*\""
      ]
     },
     "metadata": {},
     "output_type": "display_data"
    }
   ],
   "source": [
    "reg_summary=summary(regfit.fwd)  \n",
    "reg_summary"
   ]
  },
  {
   "cell_type": "markdown",
   "metadata": {},
   "source": [
    "# Example) choose 7 predictors by best selection :"
   ]
  },
  {
   "cell_type": "code",
   "execution_count": 13,
   "metadata": {},
   "outputs": [
    {
     "data": {
      "text/html": [
       "<dl class=dl-horizontal>\n",
       "\t<dt>(Intercept)</dt>\n",
       "\t\t<dd>0.287211883660169</dd>\n",
       "\t<dt>X1</dt>\n",
       "\t\t<dd>0.904674813259976</dd>\n",
       "\t<dt>X9</dt>\n",
       "\t\t<dd>1.07118536093098</dd>\n",
       "\t<dt>X12</dt>\n",
       "\t\t<dd>0.724081967479065</dd>\n",
       "\t<dt>X13</dt>\n",
       "\t\t<dd>0.643772942076461</dd>\n",
       "\t<dt>X15</dt>\n",
       "\t\t<dd>0.945935184801023</dd>\n",
       "\t<dt>X17</dt>\n",
       "\t\t<dd>1.14857707870026</dd>\n",
       "\t<dt>X18</dt>\n",
       "\t\t<dd>0.880595621791792</dd>\n",
       "</dl>\n"
      ],
      "text/latex": [
       "\\begin{description*}\n",
       "\\item[(Intercept)] 0.287211883660169\n",
       "\\item[X1] 0.904674813259976\n",
       "\\item[X9] 1.07118536093098\n",
       "\\item[X12] 0.724081967479065\n",
       "\\item[X13] 0.643772942076461\n",
       "\\item[X15] 0.945935184801023\n",
       "\\item[X17] 1.14857707870026\n",
       "\\item[X18] 0.880595621791792\n",
       "\\end{description*}\n"
      ],
      "text/markdown": [
       "(Intercept)\n",
       ":   0.287211883660169X1\n",
       ":   0.904674813259976X9\n",
       ":   1.07118536093098X12\n",
       ":   0.724081967479065X13\n",
       ":   0.643772942076461X15\n",
       ":   0.945935184801023X17\n",
       ":   1.14857707870026X18\n",
       ":   0.880595621791792\n",
       "\n"
      ],
      "text/plain": [
       "(Intercept)          X1          X9         X12         X13         X15 \n",
       "  0.2872119   0.9046748   1.0711854   0.7240820   0.6437729   0.9459352 \n",
       "        X17         X18 \n",
       "  1.1485771   0.8805956 "
      ]
     },
     "metadata": {},
     "output_type": "display_data"
    }
   ],
   "source": [
    "coef(regfit.fwd, 7)"
   ]
  },
  {
   "cell_type": "markdown",
   "metadata": {},
   "source": [
    "# Plot performance :"
   ]
  },
  {
   "cell_type": "code",
   "execution_count": 14,
   "metadata": {},
   "outputs": [
    {
     "data": {
      "image/png": "[encoded data removed]",
      "text/plain": [
       "plot without title"
      ]
     },
     "metadata": {},
     "output_type": "display_data"
    }
   ],
   "source": [
    "par(mfrow=c(2,2))\n",
    "\n",
    "plot(reg_summary$rss, ylab='RSS', xlab='p')\n",
    "plot(reg_summary$adjr2,  ylab='adj_R2', xlab='p')\n",
    "max_index=which.max(reg_summary$adjr2)\n",
    "points(max_index, reg_summary$adjr2[max_index], col=2, cex=2, pch=20)\n",
    "\n",
    "plot(reg_summary$cp,  ylab='Cp', xlab='p')\n",
    "min_index= which.min(reg_summary$cp)\n",
    "points(min_index, reg_summary$cp[min_index], col=2, cex=2, pch=20)\n",
    "\n",
    "plot(reg_summary$bic,  ylab='BIC', xlab='p')\n",
    "min_index=which.min(reg_summary$bic)\n",
    "points(min_index, reg_summary$bic[min_index], col=2, cex=2, pch=20)\n"
   ]
  },
  {
   "cell_type": "markdown",
   "metadata": {},
   "source": [
    "# Compute test error for each iteration :"
   ]
  },
  {
   "cell_type": "code",
   "execution_count": 15,
   "metadata": {},
   "outputs": [],
   "source": [
    "test_m=model.matrix(y~.,train_data)\n",
    "\n",
    "test_errors=vector(\"double\",length=22)\n",
    "\n",
    "for(i in 1:22){\n",
    "  \n",
    "  coefi=coef(regfit.fwd,i)\n",
    "  # print(coefi,test_m[,names(coefi)]%*%coefi)  \n",
    "  pred=sum(test_m[,names(coefi)]%*%coefi)\n",
    "\n",
    "  test_errors[i]=mean((y.test-pred)^2)/44\n",
    "}"
   ]
  },
  {
   "cell_type": "markdown",
   "metadata": {},
   "source": [
    "# Plot the test error and Point where is minizie it :"
   ]
  },
  {
   "cell_type": "code",
   "execution_count": 16,
   "metadata": {},
   "outputs": [
    {
     "name": "stderr",
     "output_type": "stream",
     "text": [
      "Warning message in plot.window(...):\n",
      "\"relative range of values =   0 * EPS, is small (axis 2)\""
     ]
    },
    {
     "data": {
      "image/png": "[encoded data removed]",
      "text/plain": [
       "plot without title"
      ]
     },
     "metadata": {},
     "output_type": "display_data"
    }
   ],
   "source": [
    "plot(test_errors,ylab='test error',xlab='num of predictors',type='b')\n",
    "min_index=which.min(test_errors)\n",
    "points(min_index, test_errors[min_index],col=2,cex=2,pch=20)"
   ]
  },
  {
   "cell_type": "markdown",
   "metadata": {},
   "source": [
    "# 3. Ridge regression"
   ]
  },
  {
   "cell_type": "markdown",
   "metadata": {},
   "source": [
    "# Train model by ridge regression :"
   ]
  },
  {
   "cell_type": "code",
   "execution_count": 17,
   "metadata": {},
   "outputs": [],
   "source": [
    "y=train_data$y\n",
    "x=model.matrix(y~., train_data )[,-1]\n",
    "\n",
    "# alpha==0 => ridge regression\n",
    "ridge.mod=glmnet(x,y, alpha=0) "
   ]
  },
  {
   "cell_type": "markdown",
   "metadata": {},
   "source": [
    "# Plot model with varying lambda :"
   ]
  },
  {
   "cell_type": "code",
   "execution_count": 18,
   "metadata": {},
   "outputs": [
    {
     "data": {
      "image/png": "[encoded data removed]",
      "text/plain": [
       "plot without title"
      ]
     },
     "metadata": {},
     "output_type": "display_data"
    }
   ],
   "source": [
    "# plot model varying lambda\n",
    "plot(ridge.mod, xvar='lambda')"
   ]
  },
  {
   "cell_type": "markdown",
   "metadata": {},
   "source": [
    "# Compute test error :"
   ]
  },
  {
   "cell_type": "code",
   "execution_count": 19,
   "metadata": {},
   "outputs": [
    {
     "data": {
      "text/html": [
       "0.0982889080264913"
      ],
      "text/latex": [
       "0.0982889080264913"
      ],
      "text/markdown": [
       "0.0982889080264913"
      ],
      "text/plain": [
       "[1] 0.09828891"
      ]
     },
     "metadata": {},
     "output_type": "display_data"
    }
   ],
   "source": [
    "best_lam=ridge.mod$lambda.min\n",
    "\n",
    "yhat=predict(ridge.mod,s=best_lam,newx=x.test)\n",
    "\n",
    "test_error=mean((yhat-y.test)^2)/44\n",
    "test_error"
   ]
  },
  {
   "cell_type": "markdown",
   "metadata": {},
   "source": [
    "# 4. Lasso regression"
   ]
  },
  {
   "cell_type": "markdown",
   "metadata": {},
   "source": [
    "# Train model by lasso regression :"
   ]
  },
  {
   "cell_type": "code",
   "execution_count": 20,
   "metadata": {},
   "outputs": [],
   "source": [
    "y=train_data$y\n",
    "x=model.matrix(y~., train_data )[,-1]\n",
    "\n",
    "# alpha==1 => lasso regression\n",
    "lasso.mod=glmnet(x,y,alpha = 1)"
   ]
  },
  {
   "cell_type": "markdown",
   "metadata": {},
   "source": [
    "# Plot model with varying lambda :"
   ]
  },
  {
   "cell_type": "code",
   "execution_count": 21,
   "metadata": {},
   "outputs": [
    {
     "data": {
      "image/png": "[encoded data removed]",
      "text/plain": [
       "plot without title"
      ]
     },
     "metadata": {},
     "output_type": "display_data"
    }
   ],
   "source": [
    "plot(lasso.mod,xvar='lambda')"
   ]
  },
  {
   "cell_type": "markdown",
   "metadata": {},
   "source": [
    "# Compute test error :"
   ]
  },
  {
   "cell_type": "code",
   "execution_count": 22,
   "metadata": {},
   "outputs": [
    {
     "data": {
      "text/html": [
       "0.0496148722013312"
      ],
      "text/latex": [
       "0.0496148722013312"
      ],
      "text/markdown": [
       "0.0496148722013312"
      ],
      "text/plain": [
       "[1] 0.04961487"
      ]
     },
     "metadata": {},
     "output_type": "display_data"
    }
   ],
   "source": [
    "best_lam=lasso.mod$lambda.min\n",
    "\n",
    "yhat=predict(lasso.mod,s=best_lam,newx=x.test)\n",
    "\n",
    "test_error=mean((yhat-y.test)^2)/44\n",
    "test_error"
   ]
  }
 ],
 "metadata": {
  "kernelspec": {
   "display_name": "R",
   "language": "R",
   "name": "ir"
  },
  "language_info": {
   "codemirror_mode": "r",
   "file_extension": ".r",
   "mimetype": "text/x-r-source",
   "name": "R",
   "pygments_lexer": "r",
   "version": "3.5.1"
  }
 },
 "nbformat": 4,
 "nbformat_minor": 2
}
